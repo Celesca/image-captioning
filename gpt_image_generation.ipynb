{
 "cells": [
  {
   "cell_type": "code",
   "execution_count": 1,
   "metadata": {},
   "outputs": [],
   "source": [
    "import openai\n",
    "import requests\n",
    "import os\n",
    "from PIL import Image\n",
    "from io import BytesIO\n",
    "\n",
    "\n",
    "def generate_images_from_prompts(api_key, prompts, original_name, save_path):\n",
    "    openai.api_key = api_key\n",
    "    print(\"Generating images from prompts...\")\n",
    "\n",
    "    image_prompts = []\n",
    "    print(f\"Generating image... {prompts}\")\n",
    "    response = openai.Image.create(\n",
    "        model=\"image-generator-v1\",\n",
    "        prompt=prompts,\n",
    "        n=1,\n",
    "        save_every=1,\n",
    "        formats=[\"png\"],\n",
    "    )\n",
    "    image_url = response[\"data\"][0][\"url\"]\n",
    "    image_response = requests.get(image_url)\n",
    "    image = Image.open(BytesIO(image_response.content))\n",
    "    image_filename = os.path.join(save_path, f\"{original_name}.png\")\n",
    "    image.save(image_filename)\n",
    "    print(f\"Image saved to {image_filename}\")"
   ]
  },
  {
   "cell_type": "code",
   "execution_count": 4,
   "metadata": {},
   "outputs": [],
   "source": [
    "API_KEY = os.getenv(\"GPT_TOKEN\")"
   ]
  },
  {
   "cell_type": "code",
   "execution_count": null,
   "metadata": {},
   "outputs": [],
   "source": []
  }
 ],
 "metadata": {
  "kernelspec": {
   "display_name": "base",
   "language": "python",
   "name": "python3"
  },
  "language_info": {
   "codemirror_mode": {
    "name": "ipython",
    "version": 3
   },
   "file_extension": ".py",
   "mimetype": "text/x-python",
   "name": "python",
   "nbconvert_exporter": "python",
   "pygments_lexer": "ipython3",
   "version": "3.12.2"
  }
 },
 "nbformat": 4,
 "nbformat_minor": 2
}
