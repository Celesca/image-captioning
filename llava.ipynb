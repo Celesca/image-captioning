{
 "cells": [
  {
   "cell_type": "code",
   "execution_count": 3,
   "metadata": {},
   "outputs": [
    {
     "name": "stdout",
     "output_type": "stream",
     "text": [
      " The image is a colorful illustration in the style of a comic book. It depicts a scene at night during what appears to be rain. In the foreground, there's an animated girl kneeling on a wet street, seemingly crying or looking distressed. She has dark hair and is wearing a pink jacket with a hood, and she's holding onto something that could be a handrail or a barrier.\n",
      "\n",
      "In the background, another figure is also visible, standing further away under an umbrella, suggesting they are observing the girl or waiting for her to finish. There are other figures present in the scene as well, but they are too small and distant to discern their actions clearly.\n",
      "\n",
      "The street is wet, and there's a reflection on the ground, indicating that the image has been inked to mimic the effect of raindrops. The lighting is dim, with most of the light sources coming from streetlights or headlights, which cast pools of illumination in the puddles on the street.\n",
      "\n",
      "The overall mood conveyed by the image is one of melancholy and solitude, emphasized by the contrast between the bright, colorful foreground and the darker background. There are no visible texts within the image to provide additional context or information about the characters or the setting. \n"
     ]
    }
   ],
   "source": [
    "import ollama\n",
    "\n",
    "res = ollama.chat(\n",
    "\tmodel=\"llava\",\n",
    "\tmessages=[\n",
    "\t\t{\n",
    "\t\t\t'role': 'user',\n",
    "\t\t\t'content': 'Describe this image:',\n",
    "\t\t\t'images': ['./girl.jpg']\n",
    "\t\t}\n",
    "\t]\n",
    ")\n",
    "\n",
    "print(res['message']['content'])"
   ]
  },
  {
   "cell_type": "code",
   "execution_count": 4,
   "metadata": {},
   "outputs": [
    {
     "name": "stdout",
     "output_type": "stream",
     "text": [
      " This is a color photograph depicting an event where people are gathered. In the foreground, there's a woman standing on a stage and interacting with two individuals who appear to be participants or presenters at the event. She is holding out something small for one of them, possibly an award or a token. The woman is dressed in semi-formal attire and has her hair styled upwards.\n",
      "\n",
      "One person, closer to the woman on stage, is holding a microphone and appears to be speaking or preparing to speak. This individual is wearing a dark shirt with a name tag that reads \"Arangkri\" and has their head turned towards the camera. The other person standing next to them is not facing the camera but is receiving an item from the woman.\n",
      "\n",
      "Behind the stage, there's a screen displaying text and what appears to be a movie poster with the words \"THANK YOU FOR HELPING US TO FIND THEM\" written on it, suggesting that this event might be related to a search for missing individuals or an awareness campaign about missing persons. The text is partially obscured, but the message conveys gratitude and a focus on community engagement in resolving the issue at hand.\n",
      "\n",
      "The setting looks like a professional or semi-professional environment with a modern aesthetic. There are additional people standing near the stage, suggesting that the event is well-attended and that there might be more participants or guests not visible in the image. \n"
     ]
    }
   ],
   "source": [
    "res = ollama.chat(\n",
    "    model=\"llava\",\n",
    "    messages=[\n",
    "        {\n",
    "            'role': 'user',\n",
    "            'content': 'Describe this image:',\n",
    "            'images': ['./48383.jpg']\n",
    "        }\n",
    "    ]\n",
    ")\n",
    "\n",
    "print(res['message']['content'])"
   ]
  },
  {
   "cell_type": "code",
   "execution_count": null,
   "metadata": {},
   "outputs": [],
   "source": []
  }
 ],
 "metadata": {
  "kernelspec": {
   "display_name": "base",
   "language": "python",
   "name": "python3"
  },
  "language_info": {
   "codemirror_mode": {
    "name": "ipython",
    "version": 3
   },
   "file_extension": ".py",
   "mimetype": "text/x-python",
   "name": "python",
   "nbconvert_exporter": "python",
   "pygments_lexer": "ipython3",
   "version": "3.12.2"
  }
 },
 "nbformat": 4,
 "nbformat_minor": 2
}
